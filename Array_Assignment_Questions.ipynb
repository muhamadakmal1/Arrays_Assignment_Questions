{
  "nbformat": 4,
  "nbformat_minor": 0,
  "metadata": {
    "colab": {
      "provenance": []
    },
    "kernelspec": {
      "name": "python3",
      "display_name": "Python 3"
    },
    "language_info": {
      "name": "python"
    }
  },
  "cells": [
    {
      "cell_type": "markdown",
      "source": [
        "# Assignment Questions: Arrays"
      ],
      "metadata": {
        "id": "mqyXn_hh77xW"
      }
    },
    {
      "cell_type": "markdown",
      "source": [
        "**1. Given an array, check if it contains any duplicates or not. <br>\n",
        "arr = [1, 2, 4, 2, 5, 9]<br>\n",
        "Output = True**"
      ],
      "metadata": {
        "id": "fClBR8sf8E7N"
      }
    },
    {
      "cell_type": "code",
      "execution_count": 5,
      "metadata": {
        "colab": {
          "base_uri": "https://localhost:8080/"
        },
        "id": "GBSKveEt73nM",
        "outputId": "27a1e089-1258-4251-c434-bb12d7c0b392"
      },
      "outputs": [
        {
          "output_type": "stream",
          "name": "stdout",
          "text": [
            "True\n"
          ]
        }
      ],
      "source": [
        "def duplicatesArr(arr):\n",
        "    arr1 = set()\n",
        "    for num in arr:\n",
        "        if num in arr1:\n",
        "            return True\n",
        "        arr1.add(num)\n",
        "    return False\n",
        "\n",
        "# printing result\n",
        "arr = [1, 2, 4, 2, 5, 9]\n",
        "result = duplicatesArr(arr)\n",
        "print(result)\n"
      ]
    },
    {
      "cell_type": "markdown",
      "source": [
        "**2. Given an array and an integer k, rotate the array to the right by k steps.<br>\n",
        "arr = [1, 2, 3, 4, 5, 6, 7] k = 3<br>\n",
        "Output = [5, 6, 7, 1, 2, 3, 4]**"
      ],
      "metadata": {
        "id": "_8h5YTRi86B_"
      }
    },
    {
      "cell_type": "code",
      "source": [
        "def rotate_array(arr, k):\n",
        "    # If k is larger than the length of the array, take modulo to avoid unnecessary rotations\n",
        "    k = k % len(arr)\n",
        "\n",
        "    # Rotate the array using slicing\n",
        "    arr[:] = arr[-k:] + arr[:-k]\n",
        "\n",
        "\n",
        "arr = [1, 2, 3, 4, 5, 6, 7]\n",
        "k = 3\n",
        "rotate_array(arr, k)\n",
        "print(arr)  # Output: [5, 6, 7, 1, 2, 3, 4]\n"
      ],
      "metadata": {
        "colab": {
          "base_uri": "https://localhost:8080/"
        },
        "id": "Coc11aYR8D8D",
        "outputId": "c56daeb9-a452-4ca1-c689-293eb01a2a52"
      },
      "execution_count": 7,
      "outputs": [
        {
          "output_type": "stream",
          "name": "stdout",
          "text": [
            "[5, 6, 7, 1, 2, 3, 4]\n"
          ]
        }
      ]
    },
    {
      "cell_type": "markdown",
      "source": [
        "**3. Reverse the given array in-place, means without using any extra data structure.<br>\n",
        "arr = [2, 4, 5, 7, 9, 12]<br>\n",
        "Output = [12, 9, 7, 5, 4, 2]**"
      ],
      "metadata": {
        "id": "IZhL_svF9i7H"
      }
    },
    {
      "cell_type": "code",
      "source": [
        "def reverse_array(arr):\n",
        "    start = 0\n",
        "    end = len(arr) - 1\n",
        "\n",
        "    while start < end:\n",
        "        arr[start], arr[end] = arr[end], arr[start]\n",
        "        start += 1\n",
        "        end -= 1\n",
        "\n",
        "arr = [2, 4, 5, 7, 9, 12]\n",
        "reverse_array(arr)\n",
        "print(arr)\n"
      ],
      "metadata": {
        "colab": {
          "base_uri": "https://localhost:8080/"
        },
        "id": "fkpu7Pvt9nOU",
        "outputId": "0fcba6e4-77e2-4f25-8e7c-5bbc938ab2ec"
      },
      "execution_count": 8,
      "outputs": [
        {
          "output_type": "stream",
          "name": "stdout",
          "text": [
            "[12, 9, 7, 5, 4, 2]\n"
          ]
        }
      ]
    },
    {
      "cell_type": "markdown",
      "source": [
        "**4. Given an array of integers, find the maximum element in an array<br>\n",
        "arr = [10, 5, 20, 8, 15]<br>\n",
        "Output = 20**"
      ],
      "metadata": {
        "id": "lxAfXxJe95B-"
      }
    },
    {
      "cell_type": "code",
      "source": [
        "arr = [10, 5, 20, 8, 15]\n",
        "maxElement = max(arr)\n",
        "print(maxElement)\n"
      ],
      "metadata": {
        "colab": {
          "base_uri": "https://localhost:8080/"
        },
        "id": "zYa_Phs9985h",
        "outputId": "3ed101eb-adc2-45be-d5ba-056d33872573"
      },
      "execution_count": 10,
      "outputs": [
        {
          "output_type": "stream",
          "name": "stdout",
          "text": [
            "20\n"
          ]
        }
      ]
    },
    {
      "cell_type": "markdown",
      "source": [
        "**5. Given a sorted array, remove the duplicate element without using any extra data structure.<br>\n",
        "arr = [1, 1, 2, 2, 2, 3, 3, 4, 4, 4, 5, 5]<br>\n",
        "Output = [1, 2, 3, 4, 5]**"
      ],
      "metadata": {
        "id": "Y9VpiZZc-Ruo"
      }
    },
    {
      "cell_type": "code",
      "source": [
        "def remove_duplicates(arr):\n",
        "    if not arr:\n",
        "        return []\n",
        "\n",
        "    # Initialize a pointer to keep track of the unique elements\n",
        "    unique_index = 0\n",
        "\n",
        "    # Iterate through the array starting from the second element\n",
        "    for i in range(1, len(arr)):\n",
        "        # If the current element is different from the previous unique element,\n",
        "        # move the unique_index pointer forward and update the array\n",
        "        if arr[i] != arr[unique_index]:\n",
        "            unique_index += 1\n",
        "            arr[unique_index] = arr[i]\n",
        "\n",
        "    # Return the array up to the unique_index (which now represents the last unique element)\n",
        "    return arr[:unique_index + 1]\n",
        "\n",
        "arr = [1, 1, 2, 2, 2, 3, 3, 4, 4, 4, 5, 5]\n",
        "result = remove_duplicates(arr)\n",
        "print(result)\n"
      ],
      "metadata": {
        "colab": {
          "base_uri": "https://localhost:8080/"
        },
        "id": "GTC3UZOS-aLD",
        "outputId": "c9a1a026-6b96-4c0e-cd53-7bd289fc89f2"
      },
      "execution_count": 11,
      "outputs": [
        {
          "output_type": "stream",
          "name": "stdout",
          "text": [
            "[1, 2, 3, 4, 5]\n"
          ]
        }
      ]
    }
  ]
}